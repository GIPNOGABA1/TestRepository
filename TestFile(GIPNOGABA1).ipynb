{
 "cells": [
  {
   "cell_type": "markdown",
   "metadata": {},
   "source": [
    "Тестовый файл для практики"
   ]
  },
  {
   "cell_type": "code",
   "execution_count": 34,
   "metadata": {
    "dotnet_interactive": {
     "language": "csharp"
    },
    "polyglot_notebook": {
     "kernelName": "csharp"
    }
   },
   "outputs": [
    {
     "name": "stdout",
     "output_type": "stream",
     "text": [
      "True\n",
      "True\n",
      "True\n"
     ]
    }
   ],
   "source": [
    "using System.Threading;\n",
    "\n",
    "int x = 0;\n",
    "object locker = new();  // объект-заглушка\n",
    "// запускаем пять потоков\n",
    "for (int i = 1; i < 4; i++)\n",
    "{\n",
    "    Thread myThread = new Thread(new ThreadStart(Print));\n",
    "    myThread.Name = $\"Поток {i}\";\n",
    "    myThread.Start();\n",
    "}\n",
    "\n",
    "void Print()\n",
    "{\n",
    "    bool acquiredLock = true;\n",
    "    try\n",
    "    {\n",
    "        Monitor.Enter(locker, ref acquiredLock);\n",
    "        Console.WriteLine(Monitor.IsEntered(locker));\n",
    "        x = 1;\n",
    "        for (int i = 1; i < 4; i++)\n",
    "        {\n",
    "            Console.WriteLine($\"{Thread.CurrentThread.Name}: {x}\");\n",
    "            x++;\n",
    "        }\n",
    "    }\n",
    "    finally\n",
    "    {\n",
    "        Console.WriteLine(acquiredLock);\n",
    "        if (acquiredLock) Monitor.Exit(locker);\n",
    "        Console.WriteLine(\"Hello world!\");\n",
    "    }\n",
    "}"
   ]
  }
 ],
 "metadata": {
  "kernelspec": {
   "display_name": ".NET (C#)",
   "language": "C#",
   "name": ".net-csharp"
  },
  "language_info": {
   "name": "polyglot-notebook"
  },
  "polyglot_notebook": {
   "kernelInfo": {
    "defaultKernelName": "csharp",
    "items": [
     {
      "aliases": [],
      "name": "csharp"
     }
    ]
   }
  }
 },
 "nbformat": 4,
 "nbformat_minor": 2
}
